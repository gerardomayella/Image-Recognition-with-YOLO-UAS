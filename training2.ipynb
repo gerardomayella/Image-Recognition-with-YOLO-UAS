{
  "cells": [
    {
      "cell_type": "markdown",
      "metadata": {},
      "source": [
        "# YOLOv5 Model Training Notebook\n",
        "This notebook demonstrates how to train a YOLOv5 model on a custom dataset and save the trained model as a `.pt` file."
      ]
    },
    {
      "cell_type": "code",
      "execution_count": null,
      "metadata": {},
      "outputs": [],
      "source": [
        "# Install YOLOv5 dependencies\n",
        "!pip install -U torch torchvision torchaudio\n",
        "!pip install -U git+https://github.com/ultralytics/yolov5.git"
      ]
    },
    {
      "cell_type": "code",
      "execution_count": null,
      "metadata": {},
      "outputs": [],
      "source": [
        "# Import necessary libraries\n",
        "import torch\n",
        "from yolov5 import train, val, utils\n",
        "import os"
      ]
    },
    {
      "cell_type": "markdown",
      "metadata": {},
      "source": [
        "## Dataset Preparation\n",
        "Prepare your dataset in YOLO format with the following structure:\n",
        "```\n",
        "dataset/\n",
        "  images/\n",
        "    train/\n",
        "    val/\n",
        "  labels/\n",
        "    train/\n",
        "    val/\n",
        "```\n",
        "Each label file should be a `.txt` file with bounding box annotations in YOLO format."
      ]
    },
    {
      "cell_type": "code",
      "execution_count": null,
      "metadata": {},
      "outputs": [],
      "source": [
        "# Define dataset path\n",
        "dataset_path = 'dataset'\n",
        "train_images = os.path.join(dataset_path, 'images/train')\n",
        "val_images = os.path.join(dataset_path, 'images/val')\n",
        "train_labels = os.path.join(dataset_path, 'labels/train')\n",
        "val_labels = os.path.join(dataset_path, 'labels/val')"
      ]
    },
    {
      "cell_type": "markdown",
      "metadata": {},
      "source": [
        "## Training Configuration\n",
        "Set training parameters such as epochs, batch size, image size, and model architecture."
      ]
    },
    {
      "cell_type": "code",
      "execution_count": null,
      "metadata": {},
      "outputs": [],
      "source": [
        "# Training parameters\n",
        "epochs = 50\n",
        "batch_size = 16\n",
        "img_size = 640\n",
        "model_arch = 'yolov5s'  # You can change to yolov5m, yolov5l, yolov5x\n",
        "device = 'cuda' if torch.cuda.is_available() else 'cpu'\n",
        "print(f'Training on device: {device}')"
      ]
    },
    {
      "cell_type": "markdown",
      "metadata": {},
      "source": [
        "## Start Training\n",
        "Use the Ultralytics YOLOv5 training function to train the model."
      ]
    },
    {
      "cell_type": "code",
      "execution_count": null,
      "metadata": {},
      "outputs": [],
      "source": [
        "from yolov5 import train\n",
        "\n",
        "train.run(\n",
        "    data={\n",
        "        'train': train_images,\n",
        "        'val': val_images,\n",
        "        'nc': 80,  # number of classes, change as per your dataset\n",
        "        'names': [str(i) for i in range(80)]  # class names or labels\n",
        "    },\n",
        "    imgsz=img_size,\n",
        "    batch_size=batch_size,\n",
        "    epochs=epochs,\n",
        "    weights=model_arch + '.pt',  # pretrained weights\n",
        "    device=device,\n",
        "    project='runs/train',\n",
        "    name='exp',\n",
        "    exist_ok=True\n",
        ")"
      ]
    },
    {
      "cell_type": "markdown",
      "metadata": {},
      "source": [
        "## Save the Trained Model\n",
        "The trained model weights will be saved automatically in the `runs/train/exp/weights` directory as `best.pt` and `last.pt`."
      ]
    },
    {
      "cell_type": "code",
      "execution_count": null,
      "metadata": {},
      "outputs": [],
      "source": [
        "# Path to the best model weights\n",
        "best_model_path = 'runs/train/exp/weights/best.pt'\n",
        "print(f'Trained model saved at: {best_model_path}')"
      ]
    }
  ],
  "metadata": {
    "kernelspec": {
      "display_name": "Python 3",
      "language": "python",
      "name": "python3"
    },
    "language_info": {
      "codemirror_mode": {
        "name": "ipython",
        "version": 3
      },
      "file_extension": ".py",
      "mimetype": "text/x-python",
      "name": "python",
      "nbconvert_exporter": "python",
      "pygments_lexer": "ipython3",
      "version": "3.8.8"
    }
  },
  "nbformat": 4,
  "nbformat_minor": 5
}
