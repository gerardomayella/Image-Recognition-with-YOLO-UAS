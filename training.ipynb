{
 "cells": [
  {
   "cell_type": "code",
   "execution_count": null,
   "id": "90a50489",
   "metadata": {},
   "outputs": [],
   "source": [
    "from ultralytics import YOLO\n",
    "model = YOLO(\"yolov8n.pt\") "
   ]
  },
  {
   "cell_type": "code",
   "execution_count": null,
   "id": "79de8f34",
   "metadata": {},
   "outputs": [],
   "source": [
    "\n",
    "from roboflow import Roboflow\n",
    "rf = Roboflow(api_key=\"RoEWz9ZbqllJKDShoJ8O\")\n",
    "project = rf.workspace(\"test-gswap\").project(\"deteksi-buah-pir\")\n",
    "version = project.version(5)\n",
    "dataset = version.download(\"yolov8\")"
   ]
  },
  {
   "cell_type": "code",
   "execution_count": null,
   "id": "f0ffc01f",
   "metadata": {},
   "outputs": [],
   "source": [
    "# Train YOLO model\n",
    "results = model.train(\n",
    "    data=\"data.yaml\",\n",
    "    epochs=50,\n",
    "    imgsz=640,\n",
    "    project=\"runs/train\",\n",
    "    name=\"exp\",\n",
    "    exist_ok=True\n",
    ")"
   ]
  },
  {
   "cell_type": "code",
   "execution_count": null,
   "id": "3b7849cd",
   "metadata": {},
   "outputs": [],
   "source": [
    "# Evaluate model performance on validation set\n",
    "metrics = model.val()\n",
    "print(metrics)"
   ]
  },
  {
   "cell_type": "code",
   "execution_count": null,
   "id": "8a879b81",
   "metadata": {},
   "outputs": [],
   "source": [
    "# Save the trained model\n",
    "model.export(format=\"pt\")  # Save as PyTorch .pt file\n",
    "# You can also export to other formats, e.g.:\n",
    "# model.export(format=\"onnx\")\n",
    "# model.export(format=\"engine\")\n",
    "print(\"Model exported successfully.\")"
   ]
  },
  {
   "cell_type": "markdown",
   "id": "6df0f55f",
   "metadata": {},
   "source": [
    "# Catatan\n",
    "- Pastikan file `data.yaml` sudah sesuai dengan struktur dataset Anda.\n",
    "- Model hasil training akan tersimpan di folder `runs/train/exp/weights/best.pt`.\n",
    "- Jika dataset belum tersedia, tambahkan gambar dan label ke folder dataset yang sudah dibuat."
   ]
  }
 ],
 "metadata": {
  "kernelspec": {
   "display_name": "Python 3",
   "language": "python",
   "name": "python3"
  },
  "language_info": {
   "name": "python",
   "version": "3.11.0"
  }
 },
 "nbformat": 4,
 "nbformat_minor": 5
}
