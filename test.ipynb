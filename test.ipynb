{
 "cells": [
  {
   "cell_type": "markdown",
   "id": "b2282e80",
   "metadata": {},
   "source": [
    "# Test YOLO Model dengan Kamera\n",
    "Notebook ini digunakan untuk melakukan pengujian model YOLO hasil training (`best.pt`) secara real-time menggunakan kamera (webcam)."
   ]
  },
  {
   "cell_type": "code",
   "execution_count": null,
   "id": "1e4a2897",
   "metadata": {},
   "outputs": [],
   "source": [
    "# Import library yang dibutuhkan\n",
    "from ultralytics import YOLO\n",
    "import cv2\n",
    "import matplotlib.pyplot as plt"
   ]
  },
  {
   "cell_type": "code",
   "execution_count": 2,
   "id": "feeb8e8c",
   "metadata": {},
   "outputs": [],
   "source": [
    "# Load model hasil training\n",
    "model = YOLO(\"runs/train/exp/weights/best.pt\")"
   ]
  },
  {
   "cell_type": "code",
   "execution_count": 3,
   "id": "dd6d698d",
   "metadata": {},
   "outputs": [
    {
     "name": "stdout",
     "output_type": "stream",
     "text": [
      "Kamera berhasil dibuka.\n"
     ]
    }
   ],
   "source": [
    "# Inisialisasi kamera (webcam)\n",
    "cap = cv2.VideoCapture(0)  # 0 untuk webcam default\n",
    "\n",
    "if not cap.isOpened():\n",
    "    print(\"Tidak dapat membuka kamera.\")\n",
    "else:\n",
    "    print(\"Kamera berhasil dibuka.\")"
   ]
  },
  {
   "cell_type": "code",
   "execution_count": null,
   "id": "37c5c490",
   "metadata": {},
   "outputs": [
    {
     "name": "stdout",
     "output_type": "stream",
     "text": [
      "\n",
      "0: 480x640 1 Bad Pear, 77.2ms\n",
      "Speed: 11.3ms preprocess, 77.2ms inference, 277.9ms postprocess per image at shape (1, 3, 480, 640)\n",
      "0: 480x640 1 Bad Pear, 77.2ms\n",
      "Speed: 11.3ms preprocess, 77.2ms inference, 277.9ms postprocess per image at shape (1, 3, 480, 640)\n"
     ]
    },
    {
     "ename": "error",
     "evalue": "OpenCV(4.10.0) D:\\a\\opencv-python\\opencv-python\\opencv\\modules\\highgui\\src\\window.cpp:1301: error: (-2:Unspecified error) The function is not implemented. Rebuild the library with Windows, GTK+ 2.x or Cocoa support. If you are on Ubuntu or Debian, install libgtk2.0-dev and pkg-config, then re-run cmake or configure script in function 'cvShowImage'\n",
     "output_type": "error",
     "traceback": [
      "\u001b[31m---------------------------------------------------------------------------\u001b[39m",
      "\u001b[31merror\u001b[39m                                     Traceback (most recent call last)",
      "\u001b[36mCell\u001b[39m\u001b[36m \u001b[39m\u001b[32mIn[4]\u001b[39m\u001b[32m, line 13\u001b[39m\n\u001b[32m     10\u001b[39m annotated_frame = results[\u001b[32m0\u001b[39m].plot()\n\u001b[32m     12\u001b[39m \u001b[38;5;66;03m# Tampilkan hasil deteksi\u001b[39;00m\n\u001b[32m---> \u001b[39m\u001b[32m13\u001b[39m \u001b[43mcv2\u001b[49m\u001b[43m.\u001b[49m\u001b[43mimshow\u001b[49m\u001b[43m(\u001b[49m\u001b[33;43m\"\u001b[39;49m\u001b[33;43mYOLO Detection\u001b[39;49m\u001b[33;43m\"\u001b[39;49m\u001b[43m,\u001b[49m\u001b[43m \u001b[49m\u001b[43mannotated_frame\u001b[49m\u001b[43m)\u001b[49m\n\u001b[32m     15\u001b[39m \u001b[38;5;66;03m# Tekan 'q' untuk keluar\u001b[39;00m\n\u001b[32m     16\u001b[39m \u001b[38;5;28;01mif\u001b[39;00m cv2.waitKey(\u001b[32m1\u001b[39m) & \u001b[32m0xFF\u001b[39m == \u001b[38;5;28mord\u001b[39m(\u001b[33m'\u001b[39m\u001b[33mq\u001b[39m\u001b[33m'\u001b[39m):\n",
      "\u001b[36mFile \u001b[39m\u001b[32mc:\\Users\\Gerardo Ardianta\\AppData\\Local\\Programs\\Python\\Python311\\Lib\\site-packages\\ultralytics\\utils\\patches.py:89\u001b[39m, in \u001b[36mimshow\u001b[39m\u001b[34m(winname, mat)\u001b[39m\n\u001b[32m     71\u001b[39m \u001b[38;5;28;01mdef\u001b[39;00m \u001b[34mimshow\u001b[39m(winname: \u001b[38;5;28mstr\u001b[39m, mat: np.ndarray) -> \u001b[38;5;28;01mNone\u001b[39;00m:\n\u001b[32m     72\u001b[39m \u001b[38;5;250m    \u001b[39m\u001b[33;03m\"\"\"\u001b[39;00m\n\u001b[32m     73\u001b[39m \u001b[33;03m    Display an image in the specified window with multilanguage window name support.\u001b[39;00m\n\u001b[32m     74\u001b[39m \n\u001b[32m   (...)\u001b[39m\u001b[32m     87\u001b[39m \u001b[33;03m        >>> imshow(\"Example Window\", img)  # Display the image\u001b[39;00m\n\u001b[32m     88\u001b[39m \u001b[33;03m    \"\"\"\u001b[39;00m\n\u001b[32m---> \u001b[39m\u001b[32m89\u001b[39m     \u001b[43m_imshow\u001b[49m\u001b[43m(\u001b[49m\u001b[43mwinname\u001b[49m\u001b[43m.\u001b[49m\u001b[43mencode\u001b[49m\u001b[43m(\u001b[49m\u001b[33;43m\"\u001b[39;49m\u001b[33;43municode_escape\u001b[39;49m\u001b[33;43m\"\u001b[39;49m\u001b[43m)\u001b[49m\u001b[43m.\u001b[49m\u001b[43mdecode\u001b[49m\u001b[43m(\u001b[49m\u001b[43m)\u001b[49m\u001b[43m,\u001b[49m\u001b[43m \u001b[49m\u001b[43mmat\u001b[49m\u001b[43m)\u001b[49m\n",
      "\u001b[31merror\u001b[39m: OpenCV(4.10.0) D:\\a\\opencv-python\\opencv-python\\opencv\\modules\\highgui\\src\\window.cpp:1301: error: (-2:Unspecified error) The function is not implemented. Rebuild the library with Windows, GTK+ 2.x or Cocoa support. If you are on Ubuntu or Debian, install libgtk2.0-dev and pkg-config, then re-run cmake or configure script in function 'cvShowImage'\n"
     ]
    }
   ],
   "source": [
    "# Jalankan deteksi secara real-time\n",
    "while True:\n",
    "    ret, frame = cap.read()\n",
    "    if not ret:\n",
    "        print(\"Gagal membaca frame dari kamera.\")\n",
    "        break\n",
    "    \n",
    "    # Deteksi objek pada frame\n",
    "    results = model(frame)\n",
    "    annotated_frame = results[0].plot()\n",
    "    \n",
    "    # Tampilkan hasil deteksi di notebook\n",
    "    plt.imshow(cv2.cvtColor(annotated_frame, cv2.COLOR_BGR2RGB))\n",
    "    plt.axis('off')\n",
    "    plt.show()\n",
    "\n",
    "    # Hentikan setelah satu frame, atau gunakan input untuk lanjut\n",
    "    break  # Hapus break jika ingin looping, tapi hati-hati output akan sangat banyak\n",
    "\n",
    "cap.release()"
   ]
  }
 ],
 "metadata": {
  "kernelspec": {
   "display_name": "Python 3",
   "language": "python",
   "name": "python3"
  },
  "language_info": {
   "codemirror_mode": {
    "name": "ipython",
    "version": 3
   },
   "file_extension": ".py",
   "mimetype": "text/x-python",
   "name": "python",
   "nbconvert_exporter": "python",
   "pygments_lexer": "ipython3",
   "version": "3.11.0"
  }
 },
 "nbformat": 4,
 "nbformat_minor": 5
}
